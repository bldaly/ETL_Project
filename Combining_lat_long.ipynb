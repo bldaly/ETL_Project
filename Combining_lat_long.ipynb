{
 "cells": [
  {
   "cell_type": "code",
   "execution_count": 1,
   "metadata": {},
   "outputs": [],
   "source": [
    "import pandas as pd"
   ]
  },
  {
   "cell_type": "code",
   "execution_count": 12,
   "metadata": {},
   "outputs": [
    {
     "data": {
      "text/plain": [
       "Inspection ID      121290\n",
       "DBA Name           121290\n",
       "Risk               121287\n",
       "Address            121290\n",
       "Zip                121258\n",
       "Inspection Date    121290\n",
       "Results            121290\n",
       "Latitude           121146\n",
       "Longitude          121146\n",
       "Unique_ID          121146\n",
       "dtype: int64"
      ]
     },
     "execution_count": 12,
     "metadata": {},
     "output_type": "execute_result"
    }
   ],
   "source": [
    "# read the csv file into a pandas dataframe\n",
    "inspect_lat_long = pd.read_csv('updated_inspection.csv')\n",
    "# select only the columns that are needed\n",
    "inspect_lat_long = inspect_lat_long[['Inspection ID', 'DBA Name', 'Risk', 'Address', 'Zip', \n",
    "                                     'Inspection Date', 'Results','Latitude', 'Longitude']]\n",
    "# create a unique column\n",
    "inspect_lat_long['Unique_ID'] =  inspect_lat_long['Latitude'] + inspect_lat_long['Longitude'] \n",
    "inspect_lat_long.count()"
   ]
  },
  {
   "cell_type": "code",
   "execution_count": 13,
   "metadata": {},
   "outputs": [
    {
     "data": {
      "text/html": [
       "<div>\n",
       "<style scoped>\n",
       "    .dataframe tbody tr th:only-of-type {\n",
       "        vertical-align: middle;\n",
       "    }\n",
       "\n",
       "    .dataframe tbody tr th {\n",
       "        vertical-align: top;\n",
       "    }\n",
       "\n",
       "    .dataframe thead th {\n",
       "        text-align: right;\n",
       "    }\n",
       "</style>\n",
       "<table border=\"1\" class=\"dataframe\">\n",
       "  <thead>\n",
       "    <tr style=\"text-align: right;\">\n",
       "      <th></th>\n",
       "      <th>Inspection ID</th>\n",
       "      <th>DBA Name</th>\n",
       "      <th>Risk</th>\n",
       "      <th>Address</th>\n",
       "      <th>Zip</th>\n",
       "      <th>Inspection Date</th>\n",
       "      <th>Results</th>\n",
       "      <th>Latitude</th>\n",
       "      <th>Longitude</th>\n",
       "      <th>Unique_ID</th>\n",
       "    </tr>\n",
       "  </thead>\n",
       "  <tbody>\n",
       "    <tr>\n",
       "      <th>0</th>\n",
       "      <td>2268564</td>\n",
       "      <td>PIZZERIA AROMA</td>\n",
       "      <td>Risk 1 (High)</td>\n",
       "      <td>5350 N BROADWAY</td>\n",
       "      <td>60640.0</td>\n",
       "      <td>2019-02-26T00:00:00</td>\n",
       "      <td>Fail</td>\n",
       "      <td>41.979651</td>\n",
       "      <td>-87.660106</td>\n",
       "      <td>-45.680455</td>\n",
       "    </tr>\n",
       "    <tr>\n",
       "      <th>1</th>\n",
       "      <td>2268560</td>\n",
       "      <td>PIZZERIA AROMA</td>\n",
       "      <td>Risk 1 (High)</td>\n",
       "      <td>5350 N BROADWAY</td>\n",
       "      <td>60640.0</td>\n",
       "      <td>2019-02-26T00:00:00</td>\n",
       "      <td>Fail</td>\n",
       "      <td>41.979651</td>\n",
       "      <td>-87.660106</td>\n",
       "      <td>-45.680455</td>\n",
       "    </tr>\n",
       "    <tr>\n",
       "      <th>2</th>\n",
       "      <td>2268527</td>\n",
       "      <td>CAFECITO</td>\n",
       "      <td>Risk 1 (High)</td>\n",
       "      <td>401-403 W FULLERTON PKWY</td>\n",
       "      <td>60614.0</td>\n",
       "      <td>2019-02-26T00:00:00</td>\n",
       "      <td>Pass w/ Conditions</td>\n",
       "      <td>41.925501</td>\n",
       "      <td>-87.639179</td>\n",
       "      <td>-45.713678</td>\n",
       "    </tr>\n",
       "    <tr>\n",
       "      <th>3</th>\n",
       "      <td>2268526</td>\n",
       "      <td>JOHNSON'S REAL ICE CREAM</td>\n",
       "      <td>Risk 2 (Medium)</td>\n",
       "      <td>2951 N BROADWAY</td>\n",
       "      <td>60657.0</td>\n",
       "      <td>2019-02-26T00:00:00</td>\n",
       "      <td>Pass w/ Conditions</td>\n",
       "      <td>41.936415</td>\n",
       "      <td>-87.644128</td>\n",
       "      <td>-45.707713</td>\n",
       "    </tr>\n",
       "    <tr>\n",
       "      <th>4</th>\n",
       "      <td>2268524</td>\n",
       "      <td>TONY'S KITCHEN #2 INC.</td>\n",
       "      <td>Risk 1 (High)</td>\n",
       "      <td>6325 S CENTRAL AVE</td>\n",
       "      <td>60638.0</td>\n",
       "      <td>2019-02-26T00:00:00</td>\n",
       "      <td>Pass w/ Conditions</td>\n",
       "      <td>41.777201</td>\n",
       "      <td>-87.761542</td>\n",
       "      <td>-45.984340</td>\n",
       "    </tr>\n",
       "  </tbody>\n",
       "</table>\n",
       "</div>"
      ],
      "text/plain": [
       "   Inspection ID                  DBA Name             Risk  \\\n",
       "0        2268564            PIZZERIA AROMA    Risk 1 (High)   \n",
       "1        2268560            PIZZERIA AROMA    Risk 1 (High)   \n",
       "2        2268527                  CAFECITO    Risk 1 (High)   \n",
       "3        2268526  JOHNSON'S REAL ICE CREAM  Risk 2 (Medium)   \n",
       "4        2268524    TONY'S KITCHEN #2 INC.    Risk 1 (High)   \n",
       "\n",
       "                     Address      Zip      Inspection Date  \\\n",
       "0           5350 N BROADWAY   60640.0  2019-02-26T00:00:00   \n",
       "1           5350 N BROADWAY   60640.0  2019-02-26T00:00:00   \n",
       "2  401-403 W FULLERTON PKWY   60614.0  2019-02-26T00:00:00   \n",
       "3           2951 N BROADWAY   60657.0  2019-02-26T00:00:00   \n",
       "4        6325 S CENTRAL AVE   60638.0  2019-02-26T00:00:00   \n",
       "\n",
       "              Results   Latitude  Longitude  Unique_ID  \n",
       "0                Fail  41.979651 -87.660106 -45.680455  \n",
       "1                Fail  41.979651 -87.660106 -45.680455  \n",
       "2  Pass w/ Conditions  41.925501 -87.639179 -45.713678  \n",
       "3  Pass w/ Conditions  41.936415 -87.644128 -45.707713  \n",
       "4  Pass w/ Conditions  41.777201 -87.761542 -45.984340  "
      ]
     },
     "execution_count": 13,
     "metadata": {},
     "output_type": "execute_result"
    }
   ],
   "source": [
    "inspect_lat_long.head()"
   ]
  },
  {
   "cell_type": "code",
   "execution_count": 1,
   "metadata": {},
   "outputs": [
    {
     "ename": "NameError",
     "evalue": "name 'inspect_lat_long' is not defined",
     "output_type": "error",
     "traceback": [
      "\u001b[1;31m---------------------------------------------------------------------------\u001b[0m",
      "\u001b[1;31mNameError\u001b[0m                                 Traceback (most recent call last)",
      "\u001b[1;32m<ipython-input-1-7119468aae3c>\u001b[0m in \u001b[0;36m<module>\u001b[1;34m()\u001b[0m\n\u001b[1;32m----> 1\u001b[1;33m \u001b[0minspect_lat_long\u001b[0m\u001b[1;33m.\u001b[0m\u001b[0mto_csv\u001b[0m\u001b[1;33m(\u001b[0m\u001b[1;34m'inspect_lat_long'\u001b[0m\u001b[1;33m)\u001b[0m\u001b[1;33m\u001b[0m\u001b[0m\n\u001b[0m",
      "\u001b[1;31mNameError\u001b[0m: name 'inspect_lat_long' is not defined"
     ]
    }
   ],
   "source": [
    "inspect_lat_long.to_csv('inspect_lat_long.csv')"
   ]
  },
  {
   "cell_type": "code",
   "execution_count": 15,
   "metadata": {},
   "outputs": [
    {
     "data": {
      "text/plain": [
       "Unnamed: 0    126\n",
       "Latitude      126\n",
       "Longitude     126\n",
       "Ratings       126\n",
       "Unique_ID     126\n",
       "dtype: int64"
      ]
     },
     "execution_count": 15,
     "metadata": {},
     "output_type": "execute_result"
    }
   ],
   "source": [
    "rating_lat_long = pd.read_csv('updated_rating.csv')\n",
    "rating_lat_long['Unique_ID'] =  inspect_lat_long['Latitude'] + inspect_lat_long['Longitude'] \n",
    "rating_lat_long.count()"
   ]
  },
  {
   "cell_type": "code",
   "execution_count": 16,
   "metadata": {},
   "outputs": [
    {
     "data": {
      "text/html": [
       "<div>\n",
       "<style scoped>\n",
       "    .dataframe tbody tr th:only-of-type {\n",
       "        vertical-align: middle;\n",
       "    }\n",
       "\n",
       "    .dataframe tbody tr th {\n",
       "        vertical-align: top;\n",
       "    }\n",
       "\n",
       "    .dataframe thead th {\n",
       "        text-align: right;\n",
       "    }\n",
       "</style>\n",
       "<table border=\"1\" class=\"dataframe\">\n",
       "  <thead>\n",
       "    <tr style=\"text-align: right;\">\n",
       "      <th></th>\n",
       "      <th>Unnamed: 0</th>\n",
       "      <th>Latitude</th>\n",
       "      <th>Longitude</th>\n",
       "      <th>Ratings</th>\n",
       "      <th>Unique_ID</th>\n",
       "    </tr>\n",
       "  </thead>\n",
       "  <tbody>\n",
       "    <tr>\n",
       "      <th>0</th>\n",
       "      <td>2</td>\n",
       "      <td>41.875810</td>\n",
       "      <td>-87.626449</td>\n",
       "      <td>4.6</td>\n",
       "      <td>-45.680455</td>\n",
       "    </tr>\n",
       "    <tr>\n",
       "      <th>1</th>\n",
       "      <td>10</td>\n",
       "      <td>41.879322</td>\n",
       "      <td>-87.668978</td>\n",
       "      <td>4.3</td>\n",
       "      <td>-45.680455</td>\n",
       "    </tr>\n",
       "    <tr>\n",
       "      <th>2</th>\n",
       "      <td>12</td>\n",
       "      <td>41.966191</td>\n",
       "      <td>-87.657573</td>\n",
       "      <td>3.9</td>\n",
       "      <td>-45.713678</td>\n",
       "    </tr>\n",
       "    <tr>\n",
       "      <th>3</th>\n",
       "      <td>13</td>\n",
       "      <td>41.885130</td>\n",
       "      <td>-87.623761</td>\n",
       "      <td>4.4</td>\n",
       "      <td>-45.707713</td>\n",
       "    </tr>\n",
       "    <tr>\n",
       "      <th>4</th>\n",
       "      <td>14</td>\n",
       "      <td>41.956707</td>\n",
       "      <td>-87.655293</td>\n",
       "      <td>3.9</td>\n",
       "      <td>-45.984340</td>\n",
       "    </tr>\n",
       "  </tbody>\n",
       "</table>\n",
       "</div>"
      ],
      "text/plain": [
       "   Unnamed: 0   Latitude  Longitude  Ratings  Unique_ID\n",
       "0           2  41.875810 -87.626449      4.6 -45.680455\n",
       "1          10  41.879322 -87.668978      4.3 -45.680455\n",
       "2          12  41.966191 -87.657573      3.9 -45.713678\n",
       "3          13  41.885130 -87.623761      4.4 -45.707713\n",
       "4          14  41.956707 -87.655293      3.9 -45.984340"
      ]
     },
     "execution_count": 16,
     "metadata": {},
     "output_type": "execute_result"
    }
   ],
   "source": [
    "rating_lat_long.head()"
   ]
  },
  {
   "cell_type": "code",
   "execution_count": null,
   "metadata": {},
   "outputs": [],
   "source": [
    "rating_lat_long.to_csv('rating_lat_long.csv')"
   ]
  }
 ],
 "metadata": {
  "kernelspec": {
   "display_name": "Python 3",
   "language": "python",
   "name": "python3"
  },
  "language_info": {
   "codemirror_mode": {
    "name": "ipython",
    "version": 3
   },
   "file_extension": ".py",
   "mimetype": "text/x-python",
   "name": "python",
   "nbconvert_exporter": "python",
   "pygments_lexer": "ipython3",
   "version": "3.7.0"
  }
 },
 "nbformat": 4,
 "nbformat_minor": 2
}
